{
 "cells": [
  {
   "cell_type": "code",
   "execution_count": 2,
   "id": "c83fcf2c",
   "metadata": {},
   "outputs": [],
   "source": [
    "import pandas as pd\n",
    "import os\n",
    "import csv"
   ]
  },
  {
   "cell_type": "code",
   "execution_count": 4,
   "id": "26f64aa4",
   "metadata": {},
   "outputs": [
    {
     "name": "stdout",
     "output_type": "stream",
     "text": [
      "       tmdbId  userId  rating            timestamp  imdbId           director  \\\n",
      "0         150     409     4.0  1996-03-31 03:11:54   83511        Walter Hill   \n",
      "1         150     224     5.0  1996-03-31 03:26:51   83511        Walter Hill   \n",
      "2         150     511     4.0  1996-04-13 07:40:33   83511        Walter Hill   \n",
      "3         150     536     5.0  1996-04-14 16:48:39   83511        Walter Hill   \n",
      "4         150     389     4.0  1996-04-14 22:31:55   83511        Walter Hill   \n",
      "...       ...     ...     ...                  ...     ...                ...   \n",
      "14529   55207      73     4.0  2016-03-10 16:28:43   31359  Thorold Dickinson   \n",
      "14530   47952     213     3.0  2016-05-08 02:01:27  304857     John Henderson   \n",
      "14531    6037      15     3.0  2016-06-15 09:37:35   74937       Robert Moore   \n",
      "14532     886     457     1.5  2016-08-17 06:27:19   59037     Norman Jewison   \n",
      "14533    7012     457     2.0  2016-08-17 06:49:09   85404     Nicholas Meyer   \n",
      "\n",
      "                   poster                              genres  \\\n",
      "0       poster/83511.jpeg  Thriller,Action,Comedy,Crime,Drama   \n",
      "1       poster/83511.jpeg  Thriller,Action,Comedy,Crime,Drama   \n",
      "2       poster/83511.jpeg  Thriller,Action,Comedy,Crime,Drama   \n",
      "3       poster/83511.jpeg  Thriller,Action,Comedy,Crime,Drama   \n",
      "4       poster/83511.jpeg  Thriller,Action,Comedy,Crime,Drama   \n",
      "...                   ...                                 ...   \n",
      "14529   poster/31359.jpeg                    Thriller,Mystery   \n",
      "14530  poster/304857.jpeg            Comedy,Drama,Foreign,War   \n",
      "14531   poster/74937.jpeg       Comedy,Crime,Mystery,Thriller   \n",
      "14532   poster/59037.jpeg                               Drama   \n",
      "14533   poster/85404.jpeg      TV Movie,Science Fiction,Drama   \n",
      "\n",
      "      spoken_languages                title  \\\n",
      "0              English              48 Hrs.   \n",
      "1              English              48 Hrs.   \n",
      "2              English              48 Hrs.   \n",
      "3              English              48 Hrs.   \n",
      "4              English              48 Hrs.   \n",
      "...                ...                  ...   \n",
      "14529          English             Gaslight   \n",
      "14530          English  Two Men Went To War   \n",
      "14531          English      Murder by Death   \n",
      "14532          English   The Cincinnati Kid   \n",
      "14533          English        The Day After   \n",
      "\n",
      "                                                overview release_date  \\\n",
      "0      A hard-nosed cop reluctantly teams up with a w...   1982-12-07   \n",
      "1      A hard-nosed cop reluctantly teams up with a w...   1982-12-07   \n",
      "2      A hard-nosed cop reluctantly teams up with a w...   1982-12-07   \n",
      "3      A hard-nosed cop reluctantly teams up with a w...   1982-12-07   \n",
      "4      A hard-nosed cop reluctantly teams up with a w...   1982-12-07   \n",
      "...                                                  ...          ...   \n",
      "14529  Twenty years after the murder of Alice Barlow,...   1940-06-25   \n",
      "14530  Comedy drama based on the true story of two Br...   2002-01-01   \n",
      "14531  Lionel Twain invites the world's five greatest...   1976-06-23   \n",
      "14532  An up-and-coming poker player tries to prove h...   1965-10-15   \n",
      "14533  The film portrays a fictional nuclear war betw...   1983-11-20   \n",
      "\n",
      "                                                    cast  \\\n",
      "0      Nick Nolte,Eddie Murphy,Toole\", ,Frank McRae,J...   \n",
      "1      Nick Nolte,Eddie Murphy,Toole\", ,Frank McRae,J...   \n",
      "2      Nick Nolte,Eddie Murphy,Toole\", ,Frank McRae,J...   \n",
      "3      Nick Nolte,Eddie Murphy,Toole\", ,Frank McRae,J...   \n",
      "4      Nick Nolte,Eddie Murphy,Toole\", ,Frank McRae,J...   \n",
      "...                                                  ...   \n",
      "14529  Adolf Wohlbrück,Diana Wynyard,Frank Pettingell...   \n",
      "14530  Kenneth Cranham,Rosanna Lavelle,Phyllida Law,J...   \n",
      "14531  Peter Falk,Eileen Brennan,Peter Sellers,Alec G...   \n",
      "14532  Steve McQueen,Edward G. Robinson,Ann-Margret,K...   \n",
      "14533  Jason Robards,John Cullum,JoBeth Williams,Stev...   \n",
      "\n",
      "                                                keywords  \n",
      "0        prison,convict,tough cop,fake fight,bowie knife  \n",
      "1        prison,convict,tough cop,fake fight,bowie knife  \n",
      "2        prison,convict,tough cop,fake fight,bowie knife  \n",
      "3        prison,convict,tough cop,fake fight,bowie knife  \n",
      "4        prison,convict,tough cop,fake fight,bowie knife  \n",
      "...                                                  ...  \n",
      "14529                  marriage,murder,driven mad,rubies  \n",
      "14530                                                NaN  \n",
      "14531  detective,butler,deaf-mute,guest,murder,spoof,...  \n",
      "14532                 poker,gambling,new orleans,honesty  \n",
      "14533                           cold war,kansas,disaster  \n",
      "\n",
      "[14534 rows x 14 columns]\n"
     ]
    }
   ],
   "source": [
    "usr_rate = pd.read_csv(\"info/usr_rate.csv\")\n",
    "movie_data = pd.read_csv(\"info/movie_final_info.csv\")\n",
    "all_data = pd.merge(usr_rate,movie_data, on='tmdbId')\n",
    "\n",
    "print(all_data)\n"
   ]
  }
 ],
 "metadata": {
  "kernelspec": {
   "display_name": "Python 3 (ipykernel)",
   "language": "python",
   "name": "python3"
  },
  "language_info": {
   "codemirror_mode": {
    "name": "ipython",
    "version": 3
   },
   "file_extension": ".py",
   "mimetype": "text/x-python",
   "name": "python",
   "nbconvert_exporter": "python",
   "pygments_lexer": "ipython3",
   "version": "3.9.17"
  }
 },
 "nbformat": 4,
 "nbformat_minor": 5
}
