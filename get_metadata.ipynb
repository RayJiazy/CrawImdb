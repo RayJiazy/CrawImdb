{
 "cells": [
  {
   "cell_type": "code",
   "execution_count": 1,
   "id": "72e8a13a",
   "metadata": {
    "pycharm": {
     "name": "#%%\n"
    }
   },
   "outputs": [
    {
     "name": "stdout",
     "output_type": "stream",
     "text": [
      "Intel MKL WARNING: Support of Intel(R) Streaming SIMD Extensions 4.2 (Intel(R) SSE4.2) enabled only processors has been deprecated. Intel oneAPI Math Kernel Library 2025.0 will require Intel(R) Advanced Vector Extensions (Intel(R) AVX) instructions.\n",
      "Intel MKL WARNING: Support of Intel(R) Streaming SIMD Extensions 4.2 (Intel(R) SSE4.2) enabled only processors has been deprecated. Intel oneAPI Math Kernel Library 2025.0 will require Intel(R) Advanced Vector Extensions (Intel(R) AVX) instructions.\n"
     ]
    }
   ],
   "source": [
    "import requests\n",
    "from bs4 import BeautifulSoup\n",
    "from datetime import datetime\n",
    "import unicodedata\n",
    "import logging\n",
    "import csv\n",
    "import time\n",
    "import re\n",
    "import json\n",
    "import pandas as pd\n",
    "import mysql.connector\n",
    "db = mysql.connector.connect(\n",
    "  host=\"localhost\",\n",
    "  user=\"root\",\n",
    "  password=\"Jzy969811\",\n",
    "  database=\"movie_sys\"\n",
    ")\n",
    "\n",
    "cursor = db.cursor()\n",
    "movie_meta_path = \"raw_data/movies_metadata.csv\"\n",
    "movie_staff_path = \"raw_data/credits.csv\"\n",
    "movie_keyword_path = \"raw_data/keywords.csv\"\n",
    "movie_id_path = \"raw_data/links.csv\"\n",
    "movie_merged_info_path = \"info/movie_info.csv\"\n",
    "movie_extra_info_path = \"info/extra_info.csv\"\n",
    "movie_final_info_path = \"info/movie_final_info.csv\""
   ]
  },
  {
   "cell_type": "code",
   "execution_count": 2,
   "id": "f9895715",
   "metadata": {
    "pycharm": {
     "name": "#%%\n"
    }
   },
   "outputs": [],
   "source": [
    "df_meta = pd.read_csv(movie_meta_path)[[\"genres\", \"id\", \"spoken_languages\", \"title\", \"overview\",\"release_date\",\"imdb_id\"]]\n",
    "df_meta = df_meta.fillna(value=\"\")\n",
    "for index, row in df_meta.iterrows():\n",
    "    if row['imdb_id']:\n",
    "        df_meta.loc[index, 'imdb_id'] = int(row['imdb_id'][2:])\n",
    "    if row['release_date'] != \"\":\n",
    "        if row['release_date'].find(\"-\") == -1:\n",
    "            df_meta.loc[index, 'release_date'] = datetime.strptime(row['release_date'], '%Y/%m/%d').strftime('%Y-%m-%d')\n",
    "    df_meta.loc[index,\"id\"] = int(df_meta[\"id\"][index])\n",
    "    genre = row['genres'].replace(\"'\", '\"')\n",
    "    language = row['spoken_languages'].replace(\"'\", '\"')\n",
    "    language = re.sub(r'\\\\','',language)\n",
    "    df_meta.loc[index,\"genres\"] = \",\".join([item['name'] for item in json.loads(genre)])\n",
    "    if language:\n",
    "        df_meta.loc[index,\"spoken_languages\"] = \",\".join([item['name'] for item in json.loads(language)])\n",
    "df_meta.rename(columns={'imdb_id':'imdbId'}, inplace=True)\n",
    "df_meta.rename(columns={'id':'tmdbId'}, inplace=True)"
   ]
  },
  {
   "cell_type": "code",
   "execution_count": 3,
   "id": "1fc5c65c",
   "metadata": {
    "pycharm": {
     "name": "#%%\n"
    },
    "scrolled": false
   },
   "outputs": [],
   "source": [
    "df_kw = pd.read_csv(movie_keyword_path)\n",
    "df_kw = df_kw.fillna(value=\"\")\n",
    "for index, row in df_kw.iterrows():\n",
    "    keywords = row['keywords']\n",
    "    keywords = keywords.replace(\"\\\\\",\"/\")\n",
    "    words = keywords.split(\"}, {\")\n",
    "    res = \"\"\n",
    "    for i,word in enumerate(words):\n",
    "        words[i] = re.sub(r\"'id'\", r'\"id\"',word)\n",
    "        words[i] = re.sub(r\"'name'\", r'\"name\"',words[i])\n",
    "        words[i] = re.sub(r\": '(.*)'\", r': \"\\1\"', words[i])\n",
    "        res += f\"{words[i]}\" \n",
    "        if i != len(words) - 1:\n",
    "            res += \"}, {\"\n",
    "    try:\n",
    "        df_kw.loc[index,\"keywords\"] = \",\".join([item['name'] for item in json.loads(res)])\n",
    "    except Exception as e:\n",
    "        print(res)\n",
    "df_kw.rename(columns={'id':'tmdbId'}, inplace=True)"
   ]
  },
  {
   "cell_type": "code",
   "execution_count": 4,
   "id": "675f34f0",
   "metadata": {
    "pycharm": {
     "name": "#%%\n"
    }
   },
   "outputs": [],
   "source": [
    "df_stf = pd.read_csv(movie_staff_path)[[\"id\",\"cast\"]]\n",
    "df_stf = df_stf.fillna(value=\"\")\n",
    "for index, row in df_stf.iterrows():\n",
    "    cast = row['cast']\n",
    "    cast = cast.replace(\"\\\\\",\"/\")\n",
    "    cast = re.sub(r\"None\", r'\"None\"',cast)\n",
    "    casts = cast.split(\"'name': \")\n",
    "    res_cast = []\n",
    "    for i in range(1,len(casts)):\n",
    "        if re.search(r\"'(.*?)'\", casts[i]):\n",
    "            res_cast.append(re.search(r\"'(.*?)'\", casts[i]).group(1))\n",
    "    df_stf.loc[index,\"cast\"] = \",\".join(res_cast)   \n",
    "df_stf.rename(columns={'id':'tmdbId'}, inplace=True)"
   ]
  },
  {
   "cell_type": "code",
   "execution_count": 5,
   "id": "84165142",
   "metadata": {
    "pycharm": {
     "name": "#%%\n"
    }
   },
   "outputs": [],
   "source": [
    "df_id = pd.read_csv(movie_id_path)[['tmdbId','imdbId']]"
   ]
  },
  {
   "cell_type": "code",
   "execution_count": 6,
   "id": "8dc20b4e",
   "metadata": {
    "pycharm": {
     "name": "#%%\n"
    }
   },
   "outputs": [],
   "source": [
    "df_meta = df_meta.drop_duplicates(subset=['imdbId','tmdbId'])\n",
    "df_id = df_id.drop_duplicates(subset=['imdbId','tmdbId'])\n",
    "df_kw = df_kw.drop_duplicates(subset='tmdbId')\n",
    "df_stf = df_stf.drop_duplicates(subset='tmdbId')\n",
    "df1 = pd.merge(df_meta, df_id, on=['imdbId','tmdbId'])\n",
    "df2 = pd.merge(df1, df_stf, on='tmdbId')\n",
    "df_bs = pd.merge(df2, df_kw, on='tmdbId')\n",
    "df_bs.to_csv(movie_merged_info_path,index=False)"
   ]
  },
  {
   "cell_type": "code",
   "execution_count": 7,
   "id": "a7c1ea33",
   "metadata": {
    "pycharm": {
     "name": "#%%\n"
    },
    "scrolled": false
   },
   "outputs": [],
   "source": [
    "df_ex = pd.read_csv(movie_extra_info_path,header=None).rename(columns={0:'imdbId',1:\"director\",2:\"poster\"})\n",
    "df_bs = pd.read_csv(movie_merged_info_path)\n",
    "df_final = pd.merge(df_ex, df_bs, on='imdbId')\n",
    "df_final.to_csv(movie_final_info_path,index=False)"
   ]
  },
  {
   "cell_type": "code",
   "execution_count": 8,
   "id": "6c40e4c9",
   "metadata": {},
   "outputs": [],
   "source": [
    "df_final = pd.read_csv(movie_final_info_path)\n",
    "add_data = (\"INSERT INTO MovieInfo \"\n",
    "            \"(tmdb_id, imdb_id, movie_name, spoken_language, director, outline, poster, actor, keyword, genre, publish_date) \"\n",
    "            \"VALUES (%s, %s, %s, %s, %s, %s, %s, %s, %s, %s, %s)\")\n",
    "\n",
    "for i, r in df_final.iterrows():\n",
    "    data = (r[\"tmdbId\"],r[\"imdbId\"],r[\"title\"],r[\"spoken_languages\"],r[\"director\"],r[\"overview\"],r[\"poster\"],r[\"cast\"],r[\"keywords\"],r[\"genres\"],r[\"release_date\"])\n",
    "    cursor.execute(add_data, data)\n",
    "\n",
    "db.commit()\n",
    "cursor.close()\n",
    "db.close()"
   ]
  }
 ],
 "metadata": {
  "kernelspec": {
   "display_name": "Python 3 (ipykernel)",
   "language": "python",
   "name": "python3"
  },
  "language_info": {
   "codemirror_mode": {
    "name": "ipython",
    "version": 3
   },
   "file_extension": ".py",
   "mimetype": "text/x-python",
   "name": "python",
   "nbconvert_exporter": "python",
   "pygments_lexer": "ipython3",
   "version": "3.9.17"
  }
 },
 "nbformat": 4,
 "nbformat_minor": 5
}
