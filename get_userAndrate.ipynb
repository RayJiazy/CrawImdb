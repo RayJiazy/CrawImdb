{
 "cells": [
  {
   "cell_type": "code",
   "execution_count": 6,
   "id": "2f69f4b6",
   "metadata": {},
   "outputs": [],
   "source": [
    "import requests\n",
    "from bs4 import BeautifulSoup\n",
    "from datetime import datetime\n",
    "import unicodedata\n",
    "import logging\n",
    "import csv\n",
    "import time\n",
    "import re\n",
    "import json\n",
    "import pandas as pd\n",
    "import mysql.connector\n",
    "\n",
    "db = mysql.connector.connect(\n",
    "  host=\"localhost\",\n",
    "  user=\"root\",\n",
    "  password=\"Jzy969811\",\n",
    "  database=\"movie_sys\"\n",
    ")\n",
    "\n",
    "cursor = db.cursor()\n",
    "movie_usr_rate_path = \"info/usr_rate.csv\"\n",
    "movie_final_info_path = \"info/movie_final_info.csv\"\n",
    "movie_rate_info_path = \"raw_data/ratings_small.csv\""
   ]
  },
  {
   "cell_type": "code",
   "execution_count": 2,
   "id": "28f5d626",
   "metadata": {},
   "outputs": [],
   "source": [
    "df_mv = pd.read_csv(movie_final_info_path)[['tmdbId']]\n",
    "\n",
    "df_rate = pd.read_csv(movie_rate_info_path).rename(columns={\"movieId\":'tmdbId'})\n",
    "df_usr_rate = pd.merge(df_mv,df_rate, on='tmdbId')\n",
    "df_usr = df_usr_rate[[\"userId\"]].drop_duplicates(subset='userId')"
   ]
  },
  {
   "cell_type": "code",
   "execution_count": 46,
   "id": "0437077a",
   "metadata": {},
   "outputs": [],
   "source": [
    "import random\n",
    "db = mysql.connector.connect(\n",
    "  host=\"localhost\",\n",
    "  user=\"root\",\n",
    "  password=\"Jzy969811\",\n",
    "  database=\"movie_sys\"\n",
    ")\n",
    "\n",
    "cursor = db.cursor()\n",
    "\n",
    "add_data = (\"INSERT INTO UserInfo \"\n",
    "            \"(user_id, uname, email, phone, tgroup)\"\n",
    "            \"VALUES (%s, %s, %s, %s, %s)\")\n",
    "add_account = (\"INSERT INTO UserLogin \"\n",
    "            \"(user_id, username, pwd)\"\n",
    "            \"VALUES (%s, %s, %s)\")\n",
    "phone = 13948395738\n",
    "pwd = \"888888\"\n",
    "for i, r in df_usr.iterrows():\n",
    "    user_id = r[\"userId\"]\n",
    "    uname = \"user\"+str(user_id)\n",
    "    email = \"usr\"+str(user_id).zfill(8)+\"@mv.com\"\n",
    "    phone = str(phone+user_id)\n",
    "    data = (str(user_id), uname, email, phone, random.choice([\"A\",\"B\"]))\n",
    "    account = (str(user_id), email, pwd)\n",
    "    phone = int(phone)\n",
    "    cursor.execute(add_data, data)\n",
    "    cursor.execute(add_account, account)\n",
    "db.commit()\n",
    "cursor.close()\n",
    "db.close()"
   ]
  },
  {
   "cell_type": "code",
   "execution_count": 3,
   "id": "79b760cb",
   "metadata": {},
   "outputs": [
    {
     "name": "stdout",
     "output_type": "stream",
     "text": [
      "       tmdbId  userId  rating            timestamp\n",
      "0         949      23     3.5  2006-05-27 17:11:32\n",
      "1         949     102     4.0  2000-04-25 01:55:42\n",
      "2         949     232     2.0  2000-04-07 15:31:37\n",
      "3         949     242     5.0  2000-04-26 02:53:45\n",
      "4         949     263     3.0  2005-06-04 08:56:15\n",
      "...       ...     ...     ...                  ...\n",
      "14529    2436     243     3.0  2004-09-03 22:31:49\n",
      "14530    2436     312     3.0  2000-06-02 16:20:26\n",
      "14531    2436     363     4.0  1999-11-12 02:18:23\n",
      "14532    2436     427     2.0  2000-01-24 04:05:36\n",
      "14533    2436     529     4.0  2000-06-03 01:15:38\n",
      "\n",
      "[14534 rows x 4 columns]\n"
     ]
    }
   ],
   "source": [
    "from datetime import datetime\n",
    "for i,row in enumerate(df_usr_rate[\"timestamp\"]):\n",
    "    dt_object = datetime.fromtimestamp(row)\n",
    "    formatted_date = dt_object.strftime(\"%Y-%m-%d %H:%M:%S\")\n",
    "    df_usr_rate.loc[i,\"timestamp\"] = formatted_date\n",
    "print(df_usr_rate)"
   ]
  },
  {
   "cell_type": "code",
   "execution_count": null,
   "id": "2035bb65",
   "metadata": {},
   "outputs": [],
   "source": [
    "db = mysql.connector.connect(\n",
    "  host=\"localhost\",\n",
    "  user=\"root\",\n",
    "  password=\"Jzy969811\",\n",
    "  database=\"movie_sys\"\n",
    ")\n",
    "table_name = 'MovieInfo'\n",
    "add_data = (\"INSERT INTO MovieRate \"\n",
    "            \"(user_id, movie_id, rating, rate_time)\"\n",
    "            \"VALUES (%s, %s, %s, %s)\")\n",
    "\n",
    "cursor = db.cursor()\n",
    "for i, r in df_usr_rate.iterrows():\n",
    "    user_id = r[\"userId\"]\n",
    "    tmdb_id = r[\"tmdbId\"]\n",
    "    rating = r[\"rating\"]\n",
    "    rate_time = r[\"timestamp\"]\n",
    "    query = f\"SELECT movie_id FROM {table_name} WHERE tmdb_id = %s\"\n",
    "    cursor.execute(query, (tmdb_id,))\n",
    "    result = cursor.fetchall()\n",
    "    movie_id = str(result[0][0])\n",
    "    data = (user_id,movie_id,rating,rate_time)\n",
    "    cursor.execute(add_data,data)\n",
    "db.commit()\n",
    "cursor.close()\n",
    "db.close()"
   ]
  },
  {
   "cell_type": "code",
   "execution_count": 5,
   "id": "82403857",
   "metadata": {},
   "outputs": [],
   "source": [
    "df_usr_rate = df_usr_rate.sort_values('timestamp', ascending=True)\n",
    "df_usr_rate.to_csv(movie_usr_rate_path, index=False)"
   ]
  },
  {
   "cell_type": "code",
   "execution_count": null,
   "id": "a2f40212",
   "metadata": {},
   "outputs": [],
   "source": [
    "df_usr_rate = pd.read_csv(movie_usr_rate_path)"
   ]
  }
 ],
 "metadata": {
  "kernelspec": {
   "display_name": "Python 3 (ipykernel)",
   "language": "python",
   "name": "python3"
  },
  "language_info": {
   "codemirror_mode": {
    "name": "ipython",
    "version": 3
   },
   "file_extension": ".py",
   "mimetype": "text/x-python",
   "name": "python",
   "nbconvert_exporter": "python",
   "pygments_lexer": "ipython3",
   "version": "3.9.17"
  }
 },
 "nbformat": 4,
 "nbformat_minor": 5
}
